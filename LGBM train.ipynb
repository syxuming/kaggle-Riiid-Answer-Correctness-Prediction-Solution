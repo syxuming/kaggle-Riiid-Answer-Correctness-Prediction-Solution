{
 "cells": [
  {
   "cell_type": "code",
   "execution_count": null,
   "metadata": {},
   "outputs": [],
   "source": [
    "import gc\n",
    "import numpy as np\n",
    "import pandas as pd\n",
    "from sklearn.metrics import roc_auc_score\n",
    "from sklearn.model_selection import train_test_split\n",
    "import pickle\n",
    "import lightgbm as lgb\n",
    "import joblib\n",
    "from tqdm.notebook import tqdm\n",
    "import matplotlib.pyplot as plt\n",
    "%matplotlib inline"
   ]
  },
  {
   "cell_type": "code",
   "execution_count": null,
   "metadata": {},
   "outputs": [],
   "source": [
    "# 用 1.Riiid LGBM 训练数据生成.ipynb 最后生成的训练数据\n",
    "train_df = pd.read_pickle(\"D:/kaggle/input/riiid-test-answer-prediction/train_df_3115.pkl\")\n",
    "valid_df = pd.read_pickle(\"D:/kaggle/input/riiid-test-answer-prediction/valid_df_3115.pkl\")\n",
    "print(\"Train:\", train_df.shape,\"Valid:\", valid_df.shape)"
   ]
  },
  {
   "cell_type": "code",
   "execution_count": null,
   "metadata": {},
   "outputs": [],
   "source": [
    "# 所有要用的特征\n",
    "features = [\n",
    "    \"part_bundle_id\",\n",
    "    \n",
    "    'content_elapsed_time',\n",
    "    'content_had_explanation',\n",
    "    \n",
    "    'lagtime2',\n",
    "    'lagtime3',\n",
    "    \n",
    "    'content_explation_false_mean',\n",
    "    'content_explation_true_mean',\n",
    "    \n",
    "    'curr_user_part_acc', \n",
    "    'curr_user_part_count', \n",
    "    'curr_user_part_sum',  \n",
    "    'curr_uq_time_diff', \n",
    "    'curr_user_time_diff',\n",
    "    'curr_user_time_diff_mean',\n",
    "    'curr_user_elapsed_time_diff',\n",
    "\n",
    "    'avg_task_seen_cumsum',\n",
    "    'content_mean_acc',\n",
    "    'content_cnt',\n",
    "    'corr_question_elapsed_time_mean', \n",
    "    'incorr_question_elapsed_time_mean',\n",
    "    \n",
    "    \"watched_tags_rate\",\n",
    "    \"watched_tags_bool\",\n",
    "    'tags_acc',\n",
    "    'part',\n",
    "    'part_bundle_acc', \n",
    "    \n",
    "    'part_1_cnt', 'part_2_cnt', 'part_3_cnt', 'part_4_cnt', 'part_5_cnt', 'part_6_cnt', 'part_7_cnt', \n",
    "    'type_of_concept_cnt', 'type_of_intention_cnt', 'type_of_solving_question_cnt', 'type_of_starter_cnt', \n",
    "    \"same_part_cnt\",\n",
    "    \n",
    "    'curr_lecture_bool',\n",
    "    'curr_user_correct_cnt', \n",
    "    'curr_user_answer_cnt',\n",
    "    'curr_user_acc',\n",
    "    'hmean_acc',\n",
    "    'curr_uq_correct_cnt',\n",
    "    'curr_uq_answer_cnt',\n",
    "    'curr_uq_acc',\n",
    "    'prior_question_elapsed_time',\n",
    "    'prior_question_had_explanation', \n",
    "]\n",
    "\n",
    "target = 'answered_correctly'"
   ]
  },
  {
   "cell_type": "code",
   "execution_count": null,
   "metadata": {},
   "outputs": [],
   "source": [
    "# 训练也需要30g+的RAM，如果内存不够修改TEST_SIZE来适配机器。注意：TEST_SIZE越大所需内存越小！\n",
    "TEST_SIZE = 0.5\n",
    "train_data, test_data = train_test_split(train_df, random_state=666, test_size=TEST_SIZE)\n",
    "del test_data\n",
    "del train_df\n",
    "_ = gc.collect()\n",
    "\n",
    "lgb_train = lgb.Dataset(train_data[features], train_data[target])\n",
    "lgb_valid = lgb.Dataset(valid_df[features], valid_df[target])\n",
    "del train_data\n",
    "_ = gc.collect()"
   ]
  },
  {
   "cell_type": "code",
   "execution_count": null,
   "metadata": {
    "scrolled": false
   },
   "outputs": [],
   "source": [
    "%%time\n",
    "# 用默认参数直接干，这个比赛参数影响不大\n",
    "model = lgb.train(  \n",
    "                    {\"objective\": \"binary\"},\n",
    "                    lgb_train,\n",
    "                    valid_sets=[lgb_train, lgb_valid],\n",
    "                    verbose_eval=100,\n",
    "                    num_boost_round=10000,\n",
    "                    early_stopping_rounds=20, \n",
    "                ) \n",
    "\n",
    "print('auc:', roc_auc_score(valid_df[target], model.predict(valid_df[features])))\n",
    "_ = lgb.plot_importance(model,figsize=(10,9)) "
   ]
  },
  {
   "cell_type": "code",
   "execution_count": null,
   "metadata": {},
   "outputs": [],
   "source": [
    "# 保存模型，之后上传到kaggle做inference\n",
    "joblib.dump(model, 'D:/kaggle/input/riiid-test-answer-prediction/lgb_nouq_0501.model')"
   ]
  }
 ],
 "metadata": {
  "kernelspec": {
   "display_name": "Python 3",
   "language": "python",
   "name": "python3"
  },
  "language_info": {
   "codemirror_mode": {
    "name": "ipython",
    "version": 3
   },
   "file_extension": ".py",
   "mimetype": "text/x-python",
   "name": "python",
   "nbconvert_exporter": "python",
   "pygments_lexer": "ipython3",
   "version": "3.8.3"
  },
  "toc": {
   "base_numbering": 1,
   "nav_menu": {},
   "number_sections": true,
   "sideBar": true,
   "skip_h1_title": false,
   "title_cell": "Table of Contents",
   "title_sidebar": "Contents",
   "toc_cell": false,
   "toc_position": {
    "height": "calc(100% - 180px)",
    "left": "10px",
    "top": "150px",
    "width": "291px"
   },
   "toc_section_display": true,
   "toc_window_display": false
  }
 },
 "nbformat": 4,
 "nbformat_minor": 4
}
